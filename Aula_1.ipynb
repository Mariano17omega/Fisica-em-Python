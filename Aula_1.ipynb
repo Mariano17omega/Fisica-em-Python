{
 "cells": [
  {
   "cell_type": "markdown",
   "id": "d074f84b-4d61-4585-bba8-45dd6ce9f8f0",
   "metadata": {},
   "source": [
    "# Variáveis e Operadores"
   ]
  },
  {
   "cell_type": "code",
   "execution_count": 1,
   "id": "1d6beca4-9b35-4b07-b411-8729b546e077",
   "metadata": {},
   "outputs": [
    {
     "name": "stdout",
     "output_type": "stream",
     "text": [
      "Hello, World!\n"
     ]
    }
   ],
   "source": [
    "# Hello, World!\n",
    "print(\"Hello, World!\")\n"
   ]
  },
  {
   "cell_type": "code",
   "execution_count": 2,
   "id": "c5188e98-171e-4799-aae8-27cb7da6fce1",
   "metadata": {},
   "outputs": [
    {
     "name": "stdout",
     "output_type": "stream",
     "text": [
      "Soma: 32\n"
     ]
    }
   ],
   "source": [
    "# Calculadora básica\n",
    "a = 25\n",
    "b = 7\n",
    "\n",
    "# Soma\n",
    "soma = a + b\n",
    "print(\"Soma:\", soma)\n"
   ]
  },
  {
   "cell_type": "code",
   "execution_count": 3,
   "id": "091e5123-2462-4196-87b0-a0a243290e06",
   "metadata": {},
   "outputs": [
    {
     "name": "stdout",
     "output_type": "stream",
     "text": [
      "Subtração: 18\n"
     ]
    }
   ],
   "source": [
    "# Subtração\n",
    "subtracao = a - b\n",
    "print(\"Subtração:\", subtracao)\n"
   ]
  },
  {
   "cell_type": "code",
   "execution_count": 4,
   "id": "bc510e77-4bef-4d46-9978-5b00a2d5784b",
   "metadata": {},
   "outputs": [
    {
     "name": "stdout",
     "output_type": "stream",
     "text": [
      "Multiplicação: 175\n"
     ]
    }
   ],
   "source": [
    "\n",
    "# Multiplicação\n",
    "multiplicacao = a * b\n",
    "print(\"Multiplicação:\", multiplicacao)\n"
   ]
  },
  {
   "cell_type": "code",
   "execution_count": 5,
   "id": "9cf0b38e-9992-4b4e-9ced-ac2523db27d0",
   "metadata": {},
   "outputs": [
    {
     "name": "stdout",
     "output_type": "stream",
     "text": [
      "Potenciação: 625\n",
      "Potenciação: 343\n"
     ]
    }
   ],
   "source": [
    "# Potenciação\n",
    "potenciação = a ** 2\n",
    "print(\"Potenciação:\", potenciação)\n",
    "\n",
    "potenciação = b ** 3\n",
    "print(\"Potenciação:\", potenciação)"
   ]
  },
  {
   "cell_type": "markdown",
   "id": "617160ee-5d0d-483a-8e84-cb68bfbd7dc4",
   "metadata": {},
   "source": [
    "***Divisão***\n",
    "\n",
    "<img src=\"divisao.png\" alt=\"Divisão\" width=\"200\"/>\n",
    "\n",
    "\n"
   ]
  },
  {
   "cell_type": "markdown",
   "id": "1d76603a-654a-4294-9604-3f37e45202e9",
   "metadata": {},
   "source": [
    "\n",
    "\n",
    "$\n",
    "\\dfrac{Dividendo}{Divisor}= Quonciente \\times Divisor + Resto \n",
    "$\n",
    "\n",
    "$\n",
    "\\dfrac{7}{4}= 4\\times 1 + 3 \n",
    "$"
   ]
  },
  {
   "cell_type": "code",
   "execution_count": 6,
   "id": "0bce553a-ee64-4f49-b090-3032dca8d0e6",
   "metadata": {},
   "outputs": [
    {
     "name": "stdout",
     "output_type": "stream",
     "text": [
      "Divisão: 3.5714285714285716\n"
     ]
    }
   ],
   "source": [
    "\n",
    "# Divisão\n",
    "divisao = a / b\n",
    "print(\"Divisão:\", divisao)\n"
   ]
  },
  {
   "cell_type": "code",
   "execution_count": 7,
   "id": "aeaf6155-0232-459e-9d36-31003640ebb3",
   "metadata": {},
   "outputs": [
    {
     "name": "stdout",
     "output_type": "stream",
     "text": [
      "Quociente: 3\n",
      "Resto: 4\n"
     ]
    }
   ],
   "source": [
    "# Divisão inteira - Quociente\n",
    "quociente = a // b     \n",
    "print(\"Quociente:\", quociente)\n",
    "\n",
    "# Resto da Divisão\n",
    "resto = a % b\n",
    "print(\"Resto:\", resto)\n",
    "\n"
   ]
  },
  {
   "cell_type": "code",
   "execution_count": 8,
   "id": "d40d6bac-084a-4beb-96b6-d73c3d34355c",
   "metadata": {},
   "outputs": [
    {
     "data": {
      "text/plain": [
       "25"
      ]
     },
     "execution_count": 8,
     "metadata": {},
     "output_type": "execute_result"
    }
   ],
   "source": [
    "b*quociente+resto"
   ]
  },
  {
   "cell_type": "markdown",
   "id": "3d0b72eb-4233-4dda-9aa2-5a9b4ded91ec",
   "metadata": {},
   "source": [
    "**Exercício 1:** Converta 12345 metros em quilômetros e metros.\n"
   ]
  },
  {
   "cell_type": "code",
   "execution_count": 9,
   "id": "e2e4db17-f5ff-4d0a-86e0-8698e1ea44b5",
   "metadata": {},
   "outputs": [
    {
     "name": "stdout",
     "output_type": "stream",
     "text": [
      "12345 metros é igual a 12 quilômetros e 345 metros.\n"
     ]
    }
   ],
   "source": [
    "\n",
    "metros_totais = 12345\n",
    "quilometros = metros_totais // 1000\n",
    "metros_restantes = metros_totais % 1000\n",
    "\n",
    "print(f\"{metros_totais} metros é igual a {quilometros} quilômetros e {metros_restantes} metros.\")\n"
   ]
  },
  {
   "cell_type": "markdown",
   "id": "7a6bcb5c-9da8-4e85-9783-27880583243d",
   "metadata": {},
   "source": [
    "**Exercício 2:** Converta 150 min em horas.\n"
   ]
  },
  {
   "cell_type": "code",
   "execution_count": 10,
   "id": "98dc7da4-2797-4caa-a844-29fa43c706e5",
   "metadata": {},
   "outputs": [
    {
     "name": "stdout",
     "output_type": "stream",
     "text": [
      "150 = 2 h e 30 mins\n"
     ]
    }
   ],
   "source": [
    "total_mins = 150\n",
    "horas = total_mins // 60\n",
    "minutos = total_mins % 60\n",
    "print(total_mins,\"=\",horas,\"h e\",minutos,\"mins\")"
   ]
  },
  {
   "cell_type": "markdown",
   "id": "023269b3-6b76-477d-ac39-8a8cd25907e1",
   "metadata": {},
   "source": [
    "**Exercício 3:** Converta 3850 segundos em horas, minutos e segundos."
   ]
  },
  {
   "cell_type": "code",
   "execution_count": 11,
   "id": "c3a70482-1c38-4747-a74e-44258c7b6fde",
   "metadata": {},
   "outputs": [
    {
     "name": "stdout",
     "output_type": "stream",
     "text": [
      "3850 segundos é igual a 1 horas, 4 minutos e 10 segundos.\n"
     ]
    }
   ],
   "source": [
    "# Dica\n",
    "# 1 hora = 3600 segundos\n",
    "# 1 minuto = 60 segundos\n",
    "\n",
    "segundos_totais = 3850\n",
    "\n",
    "horas = segundos_totais // 3600\n",
    "segundos_restantes = segundos_totais % 3600\n",
    "minutos = segundos_restantes // 60\n",
    "segundos = segundos_restantes % 60\n",
    "\n",
    "print(f\"{segundos_totais} segundos é igual a {horas} horas, {minutos} minutos e {segundos} segundos.\")\n"
   ]
  },
  {
   "cell_type": "markdown",
   "id": "02314740-eb2e-46c7-9bcf-6bccc7144478",
   "metadata": {},
   "source": []
  },
  {
   "cell_type": "code",
   "execution_count": 12,
   "id": "88a94f1e-52ae-40c9-95c1-c3f1372922ca",
   "metadata": {},
   "outputs": [
    {
     "name": "stdout",
     "output_type": "stream",
     "text": [
      "Alice\n",
      "25\n"
     ]
    }
   ],
   "source": [
    "# Dicionário\n",
    "meu_dict = {\n",
    "    \"nome\": \"Alice\",\n",
    "    \"idade\": 25,\n",
    "    \"cidade\": \"São Paulo\"\n",
    "}\n",
    "\n",
    "print(meu_dict[\"nome\"])\n",
    "print(meu_dict[\"idade\"])\n"
   ]
  },
  {
   "cell_type": "markdown",
   "id": "ad8777a4-e23f-4d65-bb59-0611971fde50",
   "metadata": {},
   "source": [
    "## Operadores Lógicos"
   ]
  },
  {
   "cell_type": "code",
   "execution_count": 13,
   "id": "89580065-d60c-490f-82a0-8c383d6f08d4",
   "metadata": {},
   "outputs": [
    {
     "data": {
      "text/plain": [
       "True"
      ]
     },
     "execution_count": 13,
     "metadata": {},
     "output_type": "execute_result"
    }
   ],
   "source": [
    "5==5"
   ]
  },
  {
   "cell_type": "code",
   "execution_count": 14,
   "id": "f49e5f2c-b229-46bb-af8c-2883feeb57e5",
   "metadata": {},
   "outputs": [
    {
     "data": {
      "text/plain": [
       "False"
      ]
     },
     "execution_count": 14,
     "metadata": {},
     "output_type": "execute_result"
    }
   ],
   "source": [
    "5==6"
   ]
  },
  {
   "cell_type": "code",
   "execution_count": 15,
   "id": "9a483dd2-e69a-41f9-a991-68b0b27ff5a4",
   "metadata": {},
   "outputs": [
    {
     "data": {
      "text/plain": [
       "True"
      ]
     },
     "execution_count": 15,
     "metadata": {},
     "output_type": "execute_result"
    }
   ],
   "source": [
    "5<10"
   ]
  },
  {
   "cell_type": "code",
   "execution_count": 16,
   "id": "6ed1c179-63e6-4abe-b427-38cb545e2380",
   "metadata": {},
   "outputs": [
    {
     "data": {
      "text/plain": [
       "False"
      ]
     },
     "execution_count": 16,
     "metadata": {},
     "output_type": "execute_result"
    }
   ],
   "source": [
    "5>10"
   ]
  },
  {
   "cell_type": "code",
   "execution_count": 17,
   "id": "d4fabdd2-679e-4e95-91b3-c9972f2ba590",
   "metadata": {},
   "outputs": [
    {
     "data": {
      "text/plain": [
       "True"
      ]
     },
     "execution_count": 17,
     "metadata": {},
     "output_type": "execute_result"
    }
   ],
   "source": [
    "5!=10"
   ]
  },
  {
   "cell_type": "code",
   "execution_count": 18,
   "id": "2fb016ed-fa39-4aeb-95d1-4c70e548d357",
   "metadata": {},
   "outputs": [
    {
     "data": {
      "text/plain": [
       "False"
      ]
     },
     "execution_count": 18,
     "metadata": {},
     "output_type": "execute_result"
    }
   ],
   "source": [
    "not 5!=10"
   ]
  },
  {
   "cell_type": "code",
   "execution_count": 19,
   "id": "21b077e1-5f53-4cd1-9392-df57f64865d4",
   "metadata": {},
   "outputs": [
    {
     "data": {
      "text/plain": [
       "True"
      ]
     },
     "execution_count": 19,
     "metadata": {},
     "output_type": "execute_result"
    }
   ],
   "source": [
    "5<10 and  5!=10"
   ]
  },
  {
   "cell_type": "code",
   "execution_count": 20,
   "id": "8db7cf7f-db83-4212-ae7c-f8369395725b",
   "metadata": {},
   "outputs": [
    {
     "data": {
      "text/plain": [
       "True"
      ]
     },
     "execution_count": 20,
     "metadata": {},
     "output_type": "execute_result"
    }
   ],
   "source": [
    "5<10 or 5==10"
   ]
  },
  {
   "cell_type": "markdown",
   "id": "78d59781-0e8b-4cad-8c09-62a36935e644",
   "metadata": {},
   "source": [
    "\n",
    "### Tabela Verdade \n",
    "\n",
    "| A (Expressão 1) | B (Expressão 2) | A and B | A or B | not A |\n",
    "|-----------------|-----------------|---------|--------|-------|\n",
    "| True            | True            | True    | True   | False |\n",
    "| True            | False           | False   | True   | False |\n",
    "| False           | True            | False   | True   | True  |\n",
    "| False           | False           | False   | False  | True  |"
   ]
  },
  {
   "cell_type": "markdown",
   "id": "5f05ea7e-18fc-4dd9-a77d-ccd50ba40bed",
   "metadata": {},
   "source": [
    "## Condicionais"
   ]
  },
  {
   "cell_type": "code",
   "execution_count": 21,
   "id": "d66399d4-db50-4942-9703-f60c1da1dd3e",
   "metadata": {},
   "outputs": [
    {
     "name": "stdout",
     "output_type": "stream",
     "text": [
      "5 é ímpar\n"
     ]
    }
   ],
   "source": [
    "# Verificação de número par ou ímpar\n",
    "\n",
    "x = 5\n",
    "if x % 2 == 0:\n",
    "    print(x, \"é par\")\n",
    "else:\n",
    "    print(x, \"é ímpar\")\n"
   ]
  },
  {
   "cell_type": "code",
   "execution_count": 22,
   "id": "570ee7ec-4b76-47a9-b1d3-7ad59d7e3b45",
   "metadata": {},
   "outputs": [
    {
     "name": "stdout",
     "output_type": "stream",
     "text": [
      "x não é divisível nem por 2 nem por 3\n"
     ]
    }
   ],
   "source": [
    "x = 11\n",
    "\n",
    "if x % 2 == 0:\n",
    "    print(\"x é divisível por 2\")\n",
    "elif x % 3 == 0:\n",
    "    print(\"x é divisível por 3\")\n",
    "else:\n",
    "    print(\"x não é divisível nem por 2 nem por 3\")\n"
   ]
  },
  {
   "cell_type": "markdown",
   "id": "e7a9f211-9317-47ba-92d9-b4eb562e84ed",
   "metadata": {},
   "source": [
    "## Loops  \n",
    "\n",
    "**Loop for**"
   ]
  },
  {
   "cell_type": "code",
   "execution_count": 2,
   "id": "eb090b09-6d46-4a00-ac8d-e4e44af210bb",
   "metadata": {},
   "outputs": [
    {
     "name": "stdout",
     "output_type": "stream",
     "text": [
      "1\n",
      "2\n",
      "3\n",
      "4\n",
      "5\n",
      "6\n",
      "7\n",
      "8\n",
      "9\n",
      "10\n"
     ]
    }
   ],
   "source": [
    "# Contagem de 1 a 10\n",
    "\n",
    "for s in range(1, 11):\n",
    "    print(s)\n"
   ]
  },
  {
   "cell_type": "code",
   "execution_count": 3,
   "id": "bf0cbeba-ab35-43b4-a00d-7d3ef8192be9",
   "metadata": {},
   "outputs": [
    {
     "name": "stdout",
     "output_type": "stream",
     "text": [
      "1\n",
      "3\n",
      "5\n",
      "7\n",
      "9\n"
     ]
    }
   ],
   "source": [
    "# Contagem de 1 a 10\n",
    "\n",
    "for i in range(1, 11, 2):\n",
    "    print(i)\n"
   ]
  },
  {
   "cell_type": "code",
   "execution_count": 11,
   "id": "9f176814-fa96-4da8-b3cb-4e63a8899617",
   "metadata": {},
   "outputs": [
    {
     "data": {
      "text/plain": [
       "array([ 1.,  2.,  3.,  4.,  5.,  6.,  7.,  8.,  9., 10.])"
      ]
     },
     "execution_count": 11,
     "metadata": {},
     "output_type": "execute_result"
    }
   ],
   "source": [
    "import numpy as np\n",
    "\n",
    "lista = np.linspace(start=1, stop=10, num=10, endpoint=True)\n",
    "\n",
    "lista"
   ]
  },
  {
   "cell_type": "code",
   "execution_count": 10,
   "id": "265961e7-a647-493c-b783-6ccac3446e65",
   "metadata": {},
   "outputs": [
    {
     "name": "stdout",
     "output_type": "stream",
     "text": [
      "0.0\n",
      "2.2222222222222223\n",
      "4.444444444444445\n",
      "6.666666666666667\n",
      "8.88888888888889\n",
      "11.11111111111111\n",
      "13.333333333333334\n",
      "15.555555555555557\n",
      "17.77777777777778\n",
      "20.0\n"
     ]
    }
   ],
   "source": [
    "\n",
    "\n",
    "for i in lista:\n",
    "    print (i*2)\n",
    " "
   ]
  },
  {
   "cell_type": "code",
   "execution_count": 12,
   "id": "03386dc6-e92d-4419-9867-f51f22796d2e",
   "metadata": {},
   "outputs": [
    {
     "name": "stdout",
     "output_type": "stream",
     "text": [
      "P\n",
      "y\n",
      "t\n",
      "h\n",
      "o\n",
      "n\n"
     ]
    }
   ],
   "source": [
    "# Iterando sobre uma string\n",
    "for letra in \"Python\":\n",
    "    print(letra)"
   ]
  },
  {
   "cell_type": "code",
   "execution_count": 14,
   "id": "16130b75-587b-4071-a07f-c6c3e6b0db2e",
   "metadata": {},
   "outputs": [
    {
     "name": "stdout",
     "output_type": "stream",
     "text": [
      "maçã\n",
      "6\n",
      "cereja\n"
     ]
    }
   ],
   "source": [
    "# Iterando sobre uma lista\n",
    "frutas = [\"maçã\", 6, \"cereja\"]\n",
    "\n",
    "for fruta in frutas:\n",
    "    print(fruta)\n",
    "\n",
    "\n",
    " "
   ]
  },
  {
   "cell_type": "markdown",
   "id": "c4191e5f-7ca3-4f85-a891-edc498065e8e",
   "metadata": {},
   "source": [
    "**Loop while**"
   ]
  },
  {
   "cell_type": "code",
   "execution_count": 15,
   "id": "3293f8ab-bdab-487e-a431-6147051fbf20",
   "metadata": {},
   "outputs": [
    {
     "name": "stdout",
     "output_type": "stream",
     "text": [
      "0\n",
      "1\n",
      "2\n",
      "3\n",
      "4\n",
      "contador= 5\n"
     ]
    }
   ],
   "source": [
    "# Usando while para contar até 5\n",
    "contador = 0\n",
    "\n",
    "while contador < 5:\n",
    "    print(contador)\n",
    "    contador = contador + 1\n",
    "\n",
    "print(f\"contador= {contador}\")"
   ]
  },
  {
   "cell_type": "markdown",
   "id": "3b7b61f8-1994-4b34-b636-f5aa4749a29f",
   "metadata": {},
   "source": [
    "#### Comandos de Controle de Loop\n",
    "\n",
    "Comandos para controlar o fluxo de loops:\n",
    "\n",
    "- **`break`**: Interrompe a execução do loop imediatamente.\n",
    "- **`continue`**: Pula para a próxima iteração do loop.\n",
    "- **`else`**: Associado a loops `for` e `while`, ele é executado quando o loop termina sem que um `break` seja acionado.\n"
   ]
  },
  {
   "cell_type": "code",
   "execution_count": 29,
   "id": "085584e7-7dea-443d-a93c-b391b389fd9f",
   "metadata": {},
   "outputs": [
    {
     "name": "stdout",
     "output_type": "stream",
     "text": [
      "0\n",
      "1\n",
      "2\n",
      "3\n",
      "4\n"
     ]
    }
   ],
   "source": [
    "# Usando break\n",
    "for i in range(10):\n",
    "    if i == 5:\n",
    "        break  # interrompe o loop quando i é 5\n",
    "    print(i)\n"
   ]
  },
  {
   "cell_type": "code",
   "execution_count": 16,
   "id": "4aebda95-d1b6-4b7a-ba73-4f3395c8b108",
   "metadata": {},
   "outputs": [
    {
     "name": "stdout",
     "output_type": "stream",
     "text": [
      "1\n",
      "3\n",
      "5\n",
      "7\n",
      "9\n"
     ]
    }
   ],
   "source": [
    "\n",
    "# Usando continue\n",
    "for i in range(10):\n",
    "    if i % 2 == 0:\n",
    "        continue  # pula a iteração quando i é par\n",
    "    print(i)\n"
   ]
  },
  {
   "cell_type": "code",
   "execution_count": 31,
   "id": "93650124-f013-4993-a788-00175c69e97d",
   "metadata": {},
   "outputs": [
    {
     "name": "stdout",
     "output_type": "stream",
     "text": [
      "0\n",
      "1\n",
      "2\n",
      "3\n",
      "4\n",
      "Loop for completo!\n",
      "0\n",
      "1\n",
      "2\n",
      "3\n",
      "4\n",
      "Loop while completo!\n"
     ]
    }
   ],
   "source": [
    "\n",
    "# Usando else com for\n",
    "for i in range(5):\n",
    "    print(i)\n",
    "else:\n",
    "    print(\"Loop for completo!\")\n",
    "\n",
    "# Usando else com while\n",
    "contador = 0\n",
    "while contador < 5:\n",
    "    print(contador)\n",
    "    contador += 1\n",
    "else:\n",
    "    print(\"Loop while completo!\")\n"
   ]
  },
  {
   "cell_type": "markdown",
   "id": "b598e161-cbaa-4b3d-a047-763d3369c016",
   "metadata": {},
   "source": [
    "**Exercício 4:** Calcule o fatorial de 15 usando um loop."
   ]
  },
  {
   "cell_type": "code",
   "execution_count": 18,
   "id": "3d73deb5-c733-4af5-a4d3-f4509f8f9a08",
   "metadata": {},
   "outputs": [
    {
     "name": "stdout",
     "output_type": "stream",
     "text": [
      "O fatorial de 15 é 1307674368000\n"
     ]
    }
   ],
   "source": [
    "# Fatorial\n",
    "numero = 15\n",
    "fatorial = 1\n",
    "for i in range(1, numero + 1):\n",
    "    fatorial = fatorial * i\n",
    "    \n",
    "print(f\"O fatorial de {numero} é {fatorial}\")\n"
   ]
  },
  {
   "cell_type": "markdown",
   "id": "7119383d-2d18-446e-8499-1b8058cf6fe1",
   "metadata": {},
   "source": [
    "**Exercício 5:** Calcule $\\pi$ calculando a Série de Leibniz com um loop para n=100 termos. \n",
    "\n",
    "**Aproximação de  $\\pi$  usando a Série de Leibniz**\n",
    "\n",
    "$\n",
    "\\pi \\approx 4 \\left(1 - \\frac{1}{3} + \\frac{1}{5} - \\frac{1}{7} + \\frac{1}{9} - \\cdots \\right)\n",
    "$\n",
    "\n",
    "$\n",
    "\\pi = 4 \\sum _{k=0}^{\\infty }{\\frac {(-1)^{k}}{2k+1}}\n",
    "$\n",
    "   "
   ]
  },
  {
   "cell_type": "code",
   "execution_count": 26,
   "id": "fa886f5a-63f7-4064-80bd-cd1eae126e7d",
   "metadata": {},
   "outputs": [
    {
     "name": "stdin",
     "output_type": "stream",
     "text": [
      "Digite o número de termos:  100\n"
     ]
    },
    {
     "name": "stdout",
     "output_type": "stream",
     "text": [
      "A aproximação de π usando 100 termos é 3.13159\n"
     ]
    }
   ],
   "source": [
    "N = int(input(\"Digite o número de termos: \"))\n",
    "pi_aprox = 0\n",
    "\n",
    "for k in range(N):\n",
    "   pi_aprox = pi_aprox + ((-1) ** k) / (2 * k + 1)\n",
    "pi_aprox = pi_aprox * 4\n",
    "\n",
    "print(f\"A aproximação de π usando {N} termos é {pi_aprox:.5f}\")"
   ]
  },
  {
   "cell_type": "markdown",
   "id": "e7b5352e-7e56-4db2-b1b7-022e0fd47c81",
   "metadata": {},
   "source": [
    "**Exercício 6:** Calule o número de Euler $e$ usando a Série de Taylor com um loop para n=100 termos.  \n",
    "\n",
    "**Aproximação de $e$ usando a Série de Taylor**\n",
    "\n",
    "$\n",
    " e \\approx 1 + \\frac{1}{1!} + \\frac{1}{2!} + \\frac{1}{3!} + \\cdots + \\frac{1}{N!}\n",
    "$\n"
   ]
  },
  {
   "cell_type": "code",
   "execution_count": 34,
   "id": "cf83ae5d-eec8-4f63-a7d2-983e776e92ca",
   "metadata": {},
   "outputs": [
    {
     "name": "stdin",
     "output_type": "stream",
     "text": [
      "Digite o número de termos:  100\n"
     ]
    },
    {
     "name": "stdout",
     "output_type": "stream",
     "text": [
      "A aproximação de e usando 100 termos é 2.7182818285\n"
     ]
    }
   ],
   "source": [
    "import math\n",
    "\n",
    "N = int(input(\"Digite o número de termos: \"))\n",
    "e_aprox = 0\n",
    "\n",
    "for i in range(N):\n",
    "   e_aprox = e_aprox + 1 / math.factorial(i)\n",
    "    \n",
    "print(f\"A aproximação de e usando {N} termos é {e_aprox:.10f}\")"
   ]
  },
  {
   "cell_type": "code",
   "execution_count": null,
   "id": "bcab12b0-40e6-4978-8f6a-c700cfc751d7",
   "metadata": {},
   "outputs": [],
   "source": []
  },
  {
   "cell_type": "code",
   "execution_count": null,
   "id": "f2000dd2-4bda-4b38-a547-2d79b532e9d2",
   "metadata": {},
   "outputs": [],
   "source": []
  },
  {
   "cell_type": "markdown",
   "id": "550cf083-db8c-49a1-90dd-ce626adcc84a",
   "metadata": {},
   "source": [
    "**Exercício 7:** Calcule $\\pi$ calculando a Fórmula de Nilakantha com um loop para n=100 termos. \n",
    "\n",
    "**Aproximação de  $\\pi$  usando a Fórmula de Nilakantha**\n",
    "\n",
    "$\n",
    "\\pi \\approx 3 + 4 \\left( \\frac{1}{2 \\cdot 3 \\cdot 4} - \\frac{1}{4 \\cdot 5 \\cdot 6} + \\frac{1}{6 \\cdot 7 \\cdot 8} - \\cdots \\right)\n",
    "$ "
   ]
  },
  {
   "cell_type": "code",
   "execution_count": 35,
   "id": "352b91d5-f9fa-4829-9834-07599c698c3a",
   "metadata": {},
   "outputs": [
    {
     "name": "stdin",
     "output_type": "stream",
     "text": [
      "Digite o número de termos:  100\n"
     ]
    },
    {
     "name": "stdout",
     "output_type": "stream",
     "text": [
      "A aproximação de π usando 100 termos é 3.1415924110\n"
     ]
    }
   ],
   "source": [
    "N = int(input(\"Digite o número de termos: \"))\n",
    "pi_aprox = 3\n",
    "for i in range(1, N + 1):\n",
    "    sign = (-1) ** (i + 1)\n",
    "    termo = sign * 4 / (2 * i * (2 * i + 1) * (2 * i + 2))\n",
    "    pi_aprox = pi_aprox + termo\n",
    "    \n",
    "print(f\"A aproximação de π usando {N} termos é {pi_aprox:.10f}\")\n"
   ]
  },
  {
   "cell_type": "markdown",
   "id": "418c738d-10f5-4d7d-8a48-f4406e316378",
   "metadata": {},
   "source": [
    "**Exercício 8:** Calcule os 100 primeiros termos de uma PG com $a=1$ e $r=0.3$. \n",
    "\n",
    "$\n",
    "pg =  \\sum _{k=0}^{\\infty }{ ar^k }\n",
    "$\n"
   ]
  },
  {
   "cell_type": "code",
   "execution_count": 36,
   "id": "d7eef0a6-ed8d-46cb-8aae-b1c94178fd18",
   "metadata": {},
   "outputs": [
    {
     "name": "stdout",
     "output_type": "stream",
     "text": [
      "A soma dos primeiros 100 termos da série geométrica é: 1.4285714285714288\n"
     ]
    }
   ],
   "source": [
    "# Solicita o primeiro termo, a razão e o número de termos da série\n",
    "#a = float(input(\"Digite o primeiro termo (a): \"))\n",
    "#r = float(input(\"Digite a razão (r): \"))\n",
    "#n = int(input(\"Digite o número de termos (n): \"))\n",
    "\n",
    "a= 1\n",
    "r= 0.3\n",
    "n= 100\n",
    "\n",
    "# Inicializa a soma\n",
    "soma = 0.0\n",
    "\n",
    "# Calcula a soma dos n termos usando um loop\n",
    "for i in range(n):\n",
    "    termo = a * (r ** i)\n",
    "    soma += termo\n",
    "   \n",
    "# Exibe a soma total\n",
    "print(f\"A soma dos primeiros {n} termos da série geométrica é: {soma}\")\n"
   ]
  },
  {
   "cell_type": "markdown",
   "id": "23a8f09a-0c4e-496a-ab4d-862e228eb642",
   "metadata": {},
   "source": [
    "## Listas e Arrays NumPy\n"
   ]
  },
  {
   "cell_type": "code",
   "execution_count": 37,
   "id": "af290c43-66ee-4a10-8bc5-b1d65316edc7",
   "metadata": {},
   "outputs": [
    {
     "name": "stdout",
     "output_type": "stream",
     "text": [
      "A soma dos elementos da lista é: 15\n"
     ]
    }
   ],
   "source": [
    "numeros = [1, 2, 3, 4, 5]\n",
    "\n",
    "soma = sum(numeros)\n",
    "\n",
    "print(f\"A soma dos elementos da lista é: {soma}\")\n"
   ]
  },
  {
   "cell_type": "code",
   "execution_count": 38,
   "id": "de3721d1-3c18-492d-9f0e-b2db90bc5105",
   "metadata": {},
   "outputs": [
    {
     "name": "stdout",
     "output_type": "stream",
     "text": [
      "O primeiro elemento da lista é: 1\n",
      "O ultimo elemento da lista é: 5\n",
      "O ultimo elemento da lista é: 5\n"
     ]
    }
   ],
   "source": [
    " \n",
    "print(f\"O primeiro elemento da lista é: {numeros[0]}\")\n",
    "\n",
    " \n",
    "print(f\"O ultimo elemento da lista é: {numeros[4]}\")\n",
    "print(f\"O ultimo elemento da lista é: {numeros[-1]}\")\n",
    "\n"
   ]
  },
  {
   "cell_type": "code",
   "execution_count": 39,
   "id": "485df01b-3c89-44cc-8cac-166c19027b18",
   "metadata": {},
   "outputs": [
    {
     "name": "stdout",
     "output_type": "stream",
     "text": [
      "A média dos elementos da lista é: 3.0\n"
     ]
    }
   ],
   "source": [
    "numeros = [1, 2, 3, 4, 5]\n",
    "media = sum(numeros) / len(numeros)\n",
    "print(f\"A média dos elementos da lista é: {media}\")\n"
   ]
  },
  {
   "cell_type": "markdown",
   "id": "a32030c6-2e20-418e-b814-601a068f85fa",
   "metadata": {},
   "source": [
    "**Operações Aritméticas em Arrays NumPy**"
   ]
  },
  {
   "cell_type": "code",
   "execution_count": 40,
   "id": "a5ff48dc-1685-45cb-96e6-5b48d36796f5",
   "metadata": {},
   "outputs": [
    {
     "name": "stdout",
     "output_type": "stream",
     "text": [
      "O array NumPy é: [ 1  2  3  4  5  6  7  8  9 10]\n"
     ]
    }
   ],
   "source": [
    "import numpy as np\n",
    "\n",
    "array = np.array([1, 2, 3, 4, 5, 6, 7, 8, 9, 10])\n",
    "\n",
    "print(f\"O array NumPy é: {array}\")\n"
   ]
  },
  {
   "cell_type": "code",
   "execution_count": 41,
   "id": "0dbb7ae3-0b35-4228-ba55-c373debbac60",
   "metadata": {},
   "outputs": [
    {
     "name": "stdout",
     "output_type": "stream",
     "text": [
      "Soma: [6 6 6 6 6]\n",
      "Subtração: [-4 -2  0  2  4]\n",
      "Multiplicação: [5 8 9 8 5]\n",
      "Divisão: [0.2 0.5 1.  2.  5. ]\n"
     ]
    }
   ],
   "source": [
    " \n",
    "\n",
    "array1 = np.array([1, 2, 3, 4, 5])\n",
    "array2 = np.array([5, 4, 3, 2, 1])\n",
    "\n",
    "soma = array1 + array2\n",
    "\n",
    "subtracao = array1 - array2\n",
    "\n",
    "multiplicacao = array1 * array2\n",
    "\n",
    "divisao = array1 / array2\n",
    "\n",
    "print(f\"Soma: {soma}\")\n",
    "print(f\"Subtração: {subtracao}\")\n",
    "print(f\"Multiplicação: {multiplicacao}\")\n",
    "print(f\"Divisão: {divisao}\")\n"
   ]
  },
  {
   "cell_type": "markdown",
   "id": "4ab0f9f4-4f9c-4af9-933d-af65de5fb971",
   "metadata": {},
   "source": [
    "**Média, Mediana e Desvio Padrão com NumPy**"
   ]
  },
  {
   "cell_type": "code",
   "execution_count": 42,
   "id": "cc7aac01-92b0-4e0c-a2c2-8b0692183c12",
   "metadata": {},
   "outputs": [
    {
     "name": "stdout",
     "output_type": "stream",
     "text": [
      "Array: [ 1  1  2  3  5  9 14 23 37 60]\n",
      "Média: 15.5\n",
      "Mediana: 7.0\n",
      "Desvio Padrão: 18.472953201911167\n"
     ]
    }
   ],
   "source": [
    "\n",
    "array = np.array([1, 1, 2, 3, 5, 9, 14, 23, 37, 60])\n",
    "\n",
    "media = np.mean(array)\n",
    "\n",
    "mediana = np.median(array)\n",
    "\n",
    "desvio_padrao = np.std(array)\n",
    "\n",
    "print(f\"Array: {array}\")\n",
    "print(f\"Média: {media}\")\n",
    "print(f\"Mediana: {mediana}\")\n",
    "print(f\"Desvio Padrão: {desvio_padrao}\")\n"
   ]
  },
  {
   "cell_type": "markdown",
   "id": "28aceae5-1782-4dbe-ae6a-6646a98d3c49",
   "metadata": {},
   "source": [
    "**Exercício 9:** Dado um sistema composto de um conjunto de objetos, cada um com uma massa $ m= 1,3,5,7$ e $4$ (em kg) e uma velocidade $ v = 10, 2, 5, 5$ e $2$ (em m/s), calcule a energia cinética de cada objeto e a energia cinética total do sistema.\n",
    "\n",
    "Dica: A energia cinética  $E_k$ de um objeto k é dada pela fórmula:\n",
    "\n",
    "$\n",
    "E_k = \\frac{1}{2} m v^2 \n",
    "$\n"
   ]
  },
  {
   "cell_type": "code",
   "execution_count": 43,
   "id": "847eb1c8-ddbd-4ed9-ba05-ff37ee30283f",
   "metadata": {},
   "outputs": [
    {
     "name": "stdout",
     "output_type": "stream",
     "text": [
      "Energias cinéticas individuais: [50.0, 6.0, 62.5, 87.5, 8.0] em Joules\n",
      "Energia cinética total do sistema: 214.0 J\n"
     ]
    }
   ],
   "source": [
    "# Listas de massas (em kg) e velocidades (em m/s)\n",
    "massas = [1, 3, 5, 7, 4]\n",
    "velocidades = [10, 2, 5, 5, 2]\n",
    "\n",
    "# Lista para armazenar as energias cinéticas individuais\n",
    "energias_cineticas = []\n",
    "\n",
    "# Calcular a energia cinética para cada objeto\n",
    "for i in range(len(massas)):\n",
    "    m = massas[i]\n",
    "    v = velocidades[i]\n",
    "    energia_cinetica = 0.5 * m * v**2\n",
    "    energias_cineticas.append(energia_cinetica)\n",
    "\n",
    "# Calcular a energia cinética total\n",
    "energia_cinetica_total = sum(energias_cineticas)\n",
    "\n",
    "# Imprimir os resultados\n",
    "print(\"Energias cinéticas individuais:\", energias_cineticas, \"em Joules\" )\n",
    "print(\"Energia cinética total do sistema:\", energia_cinetica_total, \"J\" )\n"
   ]
  },
  {
   "cell_type": "markdown",
   "id": "1a452f28-3f7d-4cfd-aa51-870c9beacced",
   "metadata": {},
   "source": [
    "**Exercício 10:** Dado um objeto em movimento retilíneo uniforme com uma posição inicial $ x_0 = 3m $ e uma velocidade constante $ v = 5m/s$, calcule a posição do objeto em 20 diferentes instantes de tempo até um tempo máximo de 120 s.\n",
    "\n",
    "Dica: No MRU, um objeto se move com velocidade constante, ou seja, sem aceleração. A equação para a posição $ x $ de um objeto em MRU é:\n",
    "\n",
    "$\n",
    "x(t) = x_0 + v \\cdot t \n",
    "$\n",
    "\n",
    "onde:\n",
    "- $ x_0 $ é a posição inicial,\n",
    "- $ v $ é a velocidade constante,\n",
    "- $ t $ é o tempo.\n"
   ]
  },
  {
   "cell_type": "code",
   "execution_count": 44,
   "id": "d4168272-1a16-48d0-a5cf-5e3e1fc9544b",
   "metadata": {},
   "outputs": [
    {
     "name": "stdout",
     "output_type": "stream",
     "text": [
      "Tempo: 0.000 s, Posição: 3.000 m\n",
      "Tempo: 6.316 s, Posição: 34.579 m\n",
      "Tempo: 12.632 s, Posição: 66.158 m\n",
      "Tempo: 18.947 s, Posição: 97.737 m\n",
      "Tempo: 25.263 s, Posição: 129.316 m\n",
      "Tempo: 31.579 s, Posição: 160.895 m\n",
      "Tempo: 37.895 s, Posição: 192.474 m\n",
      "Tempo: 44.211 s, Posição: 224.053 m\n",
      "Tempo: 50.526 s, Posição: 255.632 m\n",
      "Tempo: 56.842 s, Posição: 287.211 m\n",
      "Tempo: 63.158 s, Posição: 318.789 m\n",
      "Tempo: 69.474 s, Posição: 350.368 m\n",
      "Tempo: 75.789 s, Posição: 381.947 m\n",
      "Tempo: 82.105 s, Posição: 413.526 m\n",
      "Tempo: 88.421 s, Posição: 445.105 m\n",
      "Tempo: 94.737 s, Posição: 476.684 m\n",
      "Tempo: 101.053 s, Posição: 508.263 m\n",
      "Tempo: 107.368 s, Posição: 539.842 m\n",
      "Tempo: 113.684 s, Posição: 571.421 m\n",
      "Tempo: 120.000 s, Posição: 603.000 m\n"
     ]
    }
   ],
   "source": [
    "\n",
    "# Constantes\n",
    "x0 = 3.0  # Posição inicial (m)\n",
    "v = 5.0  # Velocidade constante (m/s)\n",
    "\n",
    "# Intervalo de tempo e duração total\n",
    "tempo_total = 120.0  # Tempo total de observação (s)\n",
    "instantes_de_tempo = 20 \n",
    "\n",
    "# Listas para armazenar os tempos e posições\n",
    "tempos = []\n",
    "posicoes = []\n",
    "\n",
    "# Calcular as posições em diferentes instantes de tempo\n",
    "for t in np.linspace(0.0, tempo_total, instantes_de_tempo, endpoint=True):\n",
    "    x = x0 + v * t\n",
    "    tempos.append(t)\n",
    "    posicoes.append(x)\n",
    "\n",
    "# Imprimir os resultados\n",
    "for i in range(len(tempos)):\n",
    "    print(f\"Tempo: {tempos[i] :0.3f} s, Posição: {posicoes[i] :0.3f} m\")\n",
    " "
   ]
  },
  {
   "cell_type": "markdown",
   "id": "62898c18-34d9-4c31-aa02-5315e301fb0c",
   "metadata": {},
   "source": [
    "**Exercício 11:** Dado um objeto em MRUV com uma posição inicial $ x_0 = 3 \\, m $, uma velocidade inicial $ v_0 = 5 \\, s$, e uma aceleração constante $ a = 2 \\, m/s^2 $, calcule a posição do objeto em 20 diferentes instantes de tempo até um tempo máximo de 120 segundos.\n",
    "\n",
    "Dica: No MRUV, um objeto se move com uma aceleração constante. A equação para a posição $ x $ de um objeto em MRUV é:\n",
    "\n",
    "$\n",
    "x(t) = x_0 + v_0 \\cdot t + \\frac{1}{2} a \\cdot t^2 \n",
    "$"
   ]
  },
  {
   "cell_type": "code",
   "execution_count": 45,
   "id": "a9e75c80-39d2-45fc-80c1-c3d4a02ac474",
   "metadata": {},
   "outputs": [
    {
     "name": "stdout",
     "output_type": "stream",
     "text": [
      "Tempo: 0.000 s, Posição: 3.000 m\n",
      "Tempo: 6.316 s, Posição: 74.468 m\n",
      "Tempo: 12.632 s, Posição: 225.715 m\n",
      "Tempo: 18.947 s, Posição: 456.740 m\n",
      "Tempo: 25.263 s, Posição: 767.543 m\n",
      "Tempo: 31.579 s, Posição: 1158.125 m\n",
      "Tempo: 37.895 s, Posição: 1628.485 m\n",
      "Tempo: 44.211 s, Posição: 2178.623 m\n",
      "Tempo: 50.526 s, Posição: 2808.540 m\n",
      "Tempo: 56.842 s, Posição: 3518.235 m\n",
      "Tempo: 63.158 s, Posição: 4307.709 m\n",
      "Tempo: 69.474 s, Posição: 5176.961 m\n",
      "Tempo: 75.789 s, Posição: 6125.992 m\n",
      "Tempo: 82.105 s, Posição: 7154.801 m\n",
      "Tempo: 88.421 s, Posição: 8263.388 m\n",
      "Tempo: 94.737 s, Posição: 9451.753 m\n",
      "Tempo: 101.053 s, Posição: 10719.898 m\n",
      "Tempo: 107.368 s, Posição: 12067.820 m\n",
      "Tempo: 113.684 s, Posição: 13495.521 m\n",
      "Tempo: 120.000 s, Posição: 15003.000 m\n"
     ]
    }
   ],
   "source": [
    "import numpy as np\n",
    "\n",
    "# Constantes\n",
    "x0 = 3.0  # Posição inicial (m)\n",
    "v0 = 5.0  # Velocidade inicial (m/s)\n",
    "a  = 2.0   # Aceleração constante (m/s^2)\n",
    "\n",
    "# Intervalo de tempo e duração total\n",
    "tempo_total = 120.0  # Tempo total de observação (s)\n",
    "instantes_de_tempo = 20\n",
    "\n",
    "# Listas para armazenar os tempos e posições\n",
    "tempos = []\n",
    "posicoes = []\n",
    "\n",
    "# Imprimir os resultados\n",
    "for t in np.linspace(0, tempo_total, instantes_de_tempo):\n",
    "    # Calcular as posições usando a equação do MRUV\n",
    "    x = x0 + v0 * t + 0.5 * a * t**2\n",
    "    tempos.append(t)\n",
    "    posicoes.append(x)\n",
    "\n",
    "# Imprimir os resultados\n",
    "for i in range(len(tempos)):\n",
    "    print(f\"Tempo: {tempos[i] :0.3f} s, Posição: {posicoes[i] :0.3f} m\")\n",
    " "
   ]
  },
  {
   "cell_type": "markdown",
   "id": "9435f897-c834-4883-91a3-d621f1492e90",
   "metadata": {},
   "source": [
    "**Usando a Vetorização**\n",
    "\n",
    "A Vetorização é o processo de aplicar operações a conjuntos inteiros de dados (como arrays ou matrizes) de uma só vez, ao invés de utilizar loops explícitos para iterar sobre elementos individuais. "
   ]
  },
  {
   "cell_type": "code",
   "execution_count": 46,
   "id": "432c5867-9f52-4948-8b30-f18929198dab",
   "metadata": {},
   "outputs": [
    {
     "name": "stdout",
     "output_type": "stream",
     "text": [
      "Tempo: 0.000 s, Posição: 3.000 m\n",
      "Tempo: 6.316 s, Posição: 74.468 m\n",
      "Tempo: 12.632 s, Posição: 225.715 m\n",
      "Tempo: 18.947 s, Posição: 456.740 m\n",
      "Tempo: 25.263 s, Posição: 767.543 m\n",
      "Tempo: 31.579 s, Posição: 1158.125 m\n",
      "Tempo: 37.895 s, Posição: 1628.485 m\n",
      "Tempo: 44.211 s, Posição: 2178.623 m\n",
      "Tempo: 50.526 s, Posição: 2808.540 m\n",
      "Tempo: 56.842 s, Posição: 3518.235 m\n",
      "Tempo: 63.158 s, Posição: 4307.709 m\n",
      "Tempo: 69.474 s, Posição: 5176.961 m\n",
      "Tempo: 75.789 s, Posição: 6125.992 m\n",
      "Tempo: 82.105 s, Posição: 7154.801 m\n",
      "Tempo: 88.421 s, Posição: 8263.388 m\n",
      "Tempo: 94.737 s, Posição: 9451.753 m\n",
      "Tempo: 101.053 s, Posição: 10719.898 m\n",
      "Tempo: 107.368 s, Posição: 12067.820 m\n",
      "Tempo: 113.684 s, Posição: 13495.521 m\n",
      "Tempo: 120.000 s, Posição: 15003.000 m\n"
     ]
    }
   ],
   "source": [
    "import numpy as np\n",
    "\n",
    "# Constantes\n",
    "x0 = 3.0  # Posição inicial (m)\n",
    "v0 = 5.0  # Velocidade inicial (m/s)\n",
    "a  = 2.0   # Aceleração constante (m/s^2)\n",
    "\n",
    "# Intervalo de tempo e duração total\n",
    "tempo_total = 120.0  # Tempo total de observação (s)\n",
    "instantes_de_tempo = 20 \n",
    "t = np.linspace(0, tempo_total, instantes_de_tempo)\n",
    "\n",
    "posicoes = x0 + v0 * t + 0.5 * a * t**2\n",
    "\n",
    "# Imprimir os resultados\n",
    "for i in range(len(t)):\n",
    "    print(f\"Tempo: {t[i] :0.3f} s, Posição: {posicoes[i] :0.3f} m\")\n",
    " "
   ]
  },
  {
   "cell_type": "code",
   "execution_count": null,
   "id": "fc46c9f8-eee0-4ba2-8c0f-fdefe06aefc1",
   "metadata": {},
   "outputs": [],
   "source": []
  },
  {
   "cell_type": "code",
   "execution_count": null,
   "id": "3cb40ed9-81c9-43c5-b8b8-06d8fb156741",
   "metadata": {},
   "outputs": [],
   "source": []
  }
 ],
 "metadata": {
  "kernelspec": {
   "display_name": "Python 3 (ipykernel)",
   "language": "python",
   "name": "python3"
  },
  "language_info": {
   "codemirror_mode": {
    "name": "ipython",
    "version": 3
   },
   "file_extension": ".py",
   "mimetype": "text/x-python",
   "name": "python",
   "nbconvert_exporter": "python",
   "pygments_lexer": "ipython3",
   "version": "3.10.12"
  }
 },
 "nbformat": 4,
 "nbformat_minor": 5
}
